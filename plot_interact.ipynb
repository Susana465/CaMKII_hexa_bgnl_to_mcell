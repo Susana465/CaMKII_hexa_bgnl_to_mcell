{
 "cells": [
  {
   "cell_type": "code",
   "execution_count": 1,
   "metadata": {},
   "outputs": [
    {
     "name": "stdout",
     "output_type": "stream",
     "text": [
      "3.9.16 (main, Mar  8 2023, 10:39:24) [MSC v.1916 64 bit (AMD64)]\n",
      "c:\\Users\\susan\\anaconda3\\envs\\camkii-project-env\\python.exe\n"
     ]
    }
   ],
   "source": [
    "import os\n",
    "import numpy as np\n",
    "import sys\n",
    "print(sys.version) # to know what python I'm using\n",
    "print(sys.executable) # to know where it's located\n",
    "#%pip install matplotlib\n",
    "import matplotlib.pyplot as plt\n",
    "import ipywidgets as widgets\n",
    "from IPython.display import display"
   ]
  },
  {
   "cell_type": "markdown",
   "metadata": {},
   "source": [
    "A function that loads the data from a .gdat file and extracts the header and the numerical data."
   ]
  },
  {
   "cell_type": "code",
   "execution_count": 2,
   "metadata": {},
   "outputs": [],
   "source": [
    "def load_gdat_file(target_filepath):\n",
    "    \n",
    "    # Load the data from the .gdat file\n",
    "    data = np.loadtxt(fname=target_filepath)\n",
    "    \n",
    "    # Extract the header from the .gdat file\n",
    "    with open(target_filepath, 'r') as f:\n",
    "        header = f.readline().strip().split()[2:]  # Skipping the time column\n",
    "\n",
    "    return data, header"
   ]
  },
  {
   "cell_type": "code",
   "execution_count": 3,
   "metadata": {},
   "outputs": [],
   "source": [
    "target_filepath = 'data_output/run_test/2024-09-19_15-21-56_out.gdat'"
   ]
  },
  {
   "cell_type": "code",
   "execution_count": 4,
   "metadata": {},
   "outputs": [
    {
     "data": {
      "text/plain": [
       "(array([[0.000000e+00, 2.000000e+03, 0.000000e+00, ..., 0.000000e+00,\n",
       "         0.000000e+00, 0.000000e+00],\n",
       "        [1.000000e-06, 1.983000e+03, 1.700000e+01, ..., 0.000000e+00,\n",
       "         0.000000e+00, 0.000000e+00],\n",
       "        [2.000000e-06, 1.968000e+03, 3.200000e+01, ..., 0.000000e+00,\n",
       "         0.000000e+00, 0.000000e+00],\n",
       "        ...,\n",
       "        [1.999998e+00, 3.300000e+01, 4.400000e+01, ..., 0.000000e+00,\n",
       "         1.110000e+02, 3.000000e+00],\n",
       "        [1.999999e+00, 3.300000e+01, 4.400000e+01, ..., 0.000000e+00,\n",
       "         1.110000e+02, 3.000000e+00],\n",
       "        [2.000000e+00, 3.200000e+01, 4.500000e+01, ..., 0.000000e+00,\n",
       "         1.110000e+02, 3.000000e+00]]),\n",
       " ['CaM_free',\n",
       "  'CaM_Ca1',\n",
       "  'CaM_Ca2',\n",
       "  'CaM_Ca3',\n",
       "  'CaM_Ca4',\n",
       "  'CaMKII_open',\n",
       "  'CaMKII_closed',\n",
       "  'CaMKII_CaM_Ca4',\n",
       "  'CaMKII_CaM_Ca4_00',\n",
       "  'CaMKII_CaM_Ca4_T286P1',\n",
       "  'CaMKII_CaM_Ca4_PP',\n",
       "  'CaMKII_CaM_Ca4_T306P1',\n",
       "  'CaMKII_T286P',\n",
       "  'CaMKII_T306P'])"
      ]
     },
     "execution_count": 4,
     "metadata": {},
     "output_type": "execute_result"
    }
   ],
   "source": [
    "load_gdat_file(target_filepath)"
   ]
  },
  {
   "cell_type": "markdown",
   "metadata": {},
   "source": [
    "A function that plots the selected columns from the data"
   ]
  },
  {
   "cell_type": "code",
   "execution_count": 5,
   "metadata": {},
   "outputs": [],
   "source": [
    "def plot_selected_columns(data, header, selected_columns):\n",
    "\n",
    "    plt.figure(figsize=(10, 6))\n",
    "    plt.xlabel(\"Time (s)\")\n",
    "    plt.ylabel(\"Molecule Count\")\n",
    "    plt.title(\"Molecules interacting throughout time\")\n",
    "\n",
    "    time_column = data[:, 0]  # The first column is time\n",
    "\n",
    "    # Plot each selected column\n",
    "    for column_name in selected_columns:\n",
    "        col_index = header.index(column_name) + 1  # +1 to skip the time column\n",
    "        plt.plot(time_column, data[:, col_index], label=column_name)\n",
    "    \n",
    "    plt.legend()\n",
    "    plt.show()"
   ]
  },
  {
   "cell_type": "code",
   "execution_count": 8,
   "metadata": {},
   "outputs": [],
   "source": [
    "def create_interactive_plot(target_filepath):\n",
    "    \"\"\"\n",
    "    Creates an interactive widget for selecting columns to plot.\n",
    "    \"\"\"\n",
    "    # Load the data and header\n",
    "    data, header = load_gdat_file(target_filepath)\n",
    "\n",
    "    # Create a widget for column selection\n",
    "    column_selector = widgets.SelectMultiple(\n",
    "        options=header,\n",
    "        value=[header[0]],  # Default selected column\n",
    "        description='Columns',\n",
    "        disabled=False\n",
    "    )\n",
    "\n",
    "    # Create an interactive plot based on selected columns\n",
    "    def update_plot(selected_columns):\n",
    "        # Clear the current plot\n",
    "        plt.clf()\n",
    "        # Plot the selected columns\n",
    "        plot_selected_columns(data, header, selected_columns)\n"
   ]
  },
  {
   "cell_type": "code",
   "execution_count": 9,
   "metadata": {},
   "outputs": [
    {
     "ename": "NameError",
     "evalue": "name 'update_plot' is not defined",
     "output_type": "error",
     "traceback": [
      "\u001b[1;31m---------------------------------------------------------------------------\u001b[0m",
      "\u001b[1;31mNameError\u001b[0m                                 Traceback (most recent call last)",
      "Cell \u001b[1;32mIn[9], line 2\u001b[0m\n\u001b[0;32m      1\u001b[0m \u001b[38;5;66;03m# Bind the update function to the widget\u001b[39;00m\n\u001b[1;32m----> 2\u001b[0m interactive_plot \u001b[38;5;241m=\u001b[39m widgets\u001b[38;5;241m.\u001b[39minteractive(\u001b[43mupdate_plot\u001b[49m, selected_columns\u001b[38;5;241m=\u001b[39mcolumn_selector)\n\u001b[0;32m      4\u001b[0m \u001b[38;5;66;03m# Display the widget and interactive plot\u001b[39;00m\n\u001b[0;32m      5\u001b[0m display(column_selector, interactive_plot)\n",
      "\u001b[1;31mNameError\u001b[0m: name 'update_plot' is not defined"
     ]
    }
   ],
   "source": [
    "# Bind the update function to the widget\n",
    "interactive_plot = widgets.interactive(update_plot, selected_columns=column_selector)\n",
    "\n",
    "# Display the widget and interactive plot\n",
    "display(column_selector, interactive_plot)"
   ]
  }
 ],
 "metadata": {
  "kernelspec": {
   "display_name": "camkii-project-env",
   "language": "python",
   "name": "python3"
  },
  "language_info": {
   "codemirror_mode": {
    "name": "ipython",
    "version": 3
   },
   "file_extension": ".py",
   "mimetype": "text/x-python",
   "name": "python",
   "nbconvert_exporter": "python",
   "pygments_lexer": "ipython3",
   "version": "3.9.16"
  }
 },
 "nbformat": 4,
 "nbformat_minor": 2
}
